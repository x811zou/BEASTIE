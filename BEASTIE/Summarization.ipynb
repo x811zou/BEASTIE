{
 "cells": [
  {
   "cell_type": "code",
   "execution_count": 1,
   "metadata": {},
   "outputs": [],
   "source": [
    "import matplotlib.pyplot as plt\n",
    "import numpy as np\n",
    "%matplotlib inline\n",
    "import pandas as pd\n",
    "from run_model_stan_wrapper import parse_stan_output\n",
    "from intersect_hets import summary_statistics\n",
    "import math"
   ]
  },
  {
   "cell_type": "code",
   "execution_count": 2,
   "metadata": {},
   "outputs": [],
   "source": [
    "def theta(workDir,filters):\n",
    "    samples=['HG00096','HG00097','HG00250','NA19247','NA19257']\n",
    "    fig, axs = plt.subplots(1, 5,figsize=(16,3))\n",
    "    i=0\n",
    "    for sample in samples:\n",
    "        outDir=workDir+sample+\"/output/\"+filters\n",
    "        outfilename=outDir+\"/\"+sample+\"_ASE_all.tsv\"\n",
    "        ASE_all=pd.read_csv(outfilename,sep=\"\\t\",header=0,index_col=False)\n",
    "        # plot\n",
    "        X=ASE_all['posterior_median'].tolist()\n",
    "        #logX = log(X)\n",
    "        axs[i].hist(ASE_all['posterior_median'],bins=30)\n",
    "        axs[i].set_title(str(sample))\n",
    "        axs[i].set_ylabel(r\"${\\Theta}$\")\n",
    "        i+=1\n",
    "        print(sample+\" :\")\n",
    "        print(\"\\t max:\"+str(max(X))+\"; min:\"+str(min(X))+\"; size:\"+str(len(X)))\n",
    "    # Hide x labels and tick labels for top plots and y ticks for right plots.\n",
    "    for ax in axs.flat:\n",
    "        ax.label_outer()\n",
    "    "
   ]
  },
  {
   "cell_type": "code",
   "execution_count": 3,
   "metadata": {},
   "outputs": [],
   "source": [
    "def common_theta(workDir,filters):\n",
    "    samples=['HG00096','HG00097','HG00250','NA19247','NA19257']\n",
    "    df1=pd.read_csv(workDir+samples[0]+\"/output/\"+filters+\"/\"+samples[0]+\"_ASE_all.tsv\",sep=\"\\t\",header=0,index_col=False)\n",
    "    df2=pd.read_csv(workDir+samples[1]+\"/output/\"+filters+\"/\"+samples[1]+\"_ASE_all.tsv\",sep=\"\\t\",header=0,index_col=False)\n",
    "    df3=pd.read_csv(workDir+samples[2]+\"/output/\"+filters+\"/\"+samples[2]+\"_ASE_all.tsv\",sep=\"\\t\",header=0,index_col=False)\n",
    "    df4=pd.read_csv(workDir+samples[3]+\"/output/\"+filters+\"/\"+samples[3]+\"_ASE_all.tsv\",sep=\"\\t\",header=0,index_col=False)\n",
    "    df5=pd.read_csv(workDir+samples[4]+\"/output/\"+filters+\"/\"+samples[4]+\"_ASE_all.tsv\",sep=\"\\t\",header=0,index_col=False)\n",
    "    df12 = pd.merge(df1, df2, how='inner', on=['gene_ID'])\n",
    "    df123 = pd.merge(df12, df3, how='inner', on=['gene_ID'])\n",
    "    df1234 = pd.merge(df123, df4, how='inner', on=['gene_ID'])\n",
    "    df12345 = pd.merge(df1234, df5, how='inner', on=['gene_ID'])\n",
    "    intersected_geneID=df12345['gene_ID']\n",
    "    print(\"Overlapped gene list size:\"+str(intersected_geneID.size))\n",
    "          \n",
    "    fig, axs = plt.subplots(1, 5,figsize=(16,3))\n",
    "    i=0\n",
    "    for sample in samples:\n",
    "        outDir=workDir+sample+\"/output/\"+filters\n",
    "        outfilename=outDir+\"/\"+sample+\"_ASE_all.tsv\"\n",
    "        ASE_all=pd.read_csv(outfilename,sep=\"\\t\",header=0,index_col=False)\n",
    "        ASE_common = pd.merge(intersected_geneID, ASE_all, how='inner', on=['gene_ID'])\n",
    "        # plot\n",
    "        X=ASE_common['posterior_median'].tolist()\n",
    "        axs[i].hist(ASE_common['posterior_median'],bins=30)\n",
    "        #logX = np.log2(X)\n",
    "        #axs[i].hist(logX,bins=30)\n",
    "        axs[i].set_title(str(sample))\n",
    "        axs[i].set_ylabel(r\"${\\Theta}$\")\n",
    "        #axs[i].set_xlim(0,38)\n",
    "        i+=1\n",
    "        print(sample+\" :\\t max:\"+str(max(X))+\"; min:\"+str(min(X))+\"; var:\"+str(ASE_common.var()['posterior_median'])+\"; size:\"+str(len(X)))\n",
    "    # Hide x labels and tick labels for top plots and y ticks for right plots.\n",
    "    for ax in axs.flat:\n",
    "        ax.label_outer()"
   ]
  },
  {
   "cell_type": "code",
   "execution_count": 5,
   "metadata": {},
   "outputs": [],
   "source": [
    "def common_ASE(workDir,filters):\n",
    "    samples=['HG00096','HG00097','HG00250','NA19247','NA19257']\n",
    "    df1=pd.read_csv(workDir+samples[0]+\"/output/\"+filters+\"/\"+samples[0]+\"_ASE_cutoff_0.5_filtered.tsv\",sep=\"\\t\",header=0,index_col=False)\n",
    "    df2=pd.read_csv(workDir+samples[1]+\"/output/\"+filters+\"/\"+samples[1]+\"_ASE_cutoff_0.5_filtered.tsv\",sep=\"\\t\",header=0,index_col=False)\n",
    "    df3=pd.read_csv(workDir+samples[2]+\"/output/\"+filters+\"/\"+samples[2]+\"_ASE_cutoff_0.5_filtered.tsv\",sep=\"\\t\",header=0,index_col=False)\n",
    "    df4=pd.read_csv(workDir+samples[3]+\"/output/\"+filters+\"/\"+samples[3]+\"_ASE_cutoff_0.5_filtered.tsv\",sep=\"\\t\",header=0,index_col=False)\n",
    "    df5=pd.read_csv(workDir+samples[4]+\"/output/\"+filters+\"/\"+samples[4]+\"_ASE_cutoff_0.5_filtered.tsv\",sep=\"\\t\",header=0,index_col=False)\n",
    "    df12 = pd.merge(df1, df2, how='inner', on=['gene_ID'])\n",
    "    df123 = pd.merge(df12, df3, how='inner', on=['gene_ID'])\n",
    "    df1234 = pd.merge(df123, df4, how='inner', on=['gene_ID'])\n",
    "    df12345 = pd.merge(df1234, df5, how='inner', on=['gene_ID'])\n",
    "    intersected_geneID=df12345['gene_ID']\n",
    "    print(\"Overlapped gene list size:\"+str(intersected_geneID.size))\n",
    "          \n",
    "    fig, axs = plt.subplots(1, 5,figsize=(16,3))\n",
    "    i=0\n",
    "    for sample in samples:\n",
    "        outDir=workDir+sample+\"/output/\"+filters\n",
    "        outfilename=outDir+\"/\"+sample+\"_ASE_all.tsv\"\n",
    "        ASE_all=pd.read_csv(outfilename,sep=\"\\t\",header=0,index_col=False)\n",
    "        ASE_common = pd.merge(intersected_geneID, ASE_all, how='inner', on=['gene_ID'])\n",
    "        # plot\n",
    "        X=ASE_common['posterior_median'].tolist()\n",
    "        #logX = np.log2(X)\n",
    "        #axs[i].hist(logX,bins=30)\n",
    "        axs[i].hist(ASE_common['posterior_median'],bins=30)\n",
    "        axs[i].set_title(str(sample))\n",
    "        axs[i].set_xlim(0,19)\n",
    "        axs[i].set_ylabel(r\"${\\Theta}$\")\n",
    "        i+=1\n",
    "        print(sample+\" :\\t max:\"+str(max(X))+\"; min:\"+str(min(X))+\"; size:\"+str(len(X)))\n",
    "    # Hide x labels and tick labels for top plots and y ticks for right plots.\n",
    "    for ax in axs.flat:\n",
    "        ax.label_outer()\n",
    "    fig.suptitle('Distribution of posterior theta') # or plt.suptitle('Main title')\n",
    "    plt.show()"
   ]
  },
  {
   "cell_type": "code",
   "execution_count": null,
   "metadata": {},
   "outputs": [],
   "source": []
  },
  {
   "cell_type": "code",
   "execution_count": null,
   "metadata": {},
   "outputs": [],
   "source": [
    "filters=\"s-0.5_a-0.05_sinCov0_totCov1_W1000K1000\"\n",
    "workDir=\"/Users/scarlett/Documents/Allen_lab/github/BEASTIE/other_example/\""
   ]
  },
  {
   "cell_type": "markdown",
   "metadata": {},
   "source": [
    "### 1. theta plot"
   ]
  },
  {
   "cell_type": "code",
   "execution_count": 106,
   "metadata": {},
   "outputs": [
    {
     "name": "stdout",
     "output_type": "stream",
     "text": [
      "HG00096 :\n",
      "\t max:16.483; min:0.031; size:5239\n",
      "HG00097 :\n",
      "\t max:25.49; min:0.011000000000000001; size:9178\n",
      "HG00250 :\n",
      "\t max:18.245; min:0.016; size:8946\n",
      "NA19247 :\n",
      "\t max:37.214; min:0.02; size:10735\n",
      "NA19257 :\n",
      "\t max:21.335; min:0.019; size:10712\n"
     ]
    },
    {
     "data": {
      "image/png": "[encoded data removed]",
      "text/plain": [
       "<Figure size 1152x216 with 5 Axes>"
      ]
     },
     "metadata": {
      "needs_background": "light"
     },
     "output_type": "display_data"
    }
   ],
   "source": [
    "theta(workDir,filters)"
   ]
  },
  {
   "cell_type": "markdown",
   "metadata": {},
   "source": [
    "### 2. common theta plot"
   ]
  },
  {
   "cell_type": "code",
   "execution_count": 110,
   "metadata": {},
   "outputs": [
    {
     "name": "stdout",
     "output_type": "stream",
     "text": [
      "Overlapped gene list size:1630\n",
      "HG00096 :\t max:16.483; min:0.132; var:0.19326989209986178; size:1630\n",
      "HG00097 :\t max:7.23; min:0.102; var:0.0758363641678624; size:1630\n",
      "HG00250 :\t max:18.245; min:0.094; var:0.22569285567946012; size:1630\n",
      "NA19247 :\t max:18.298; min:0.049; var:0.2538428391628722; size:1630\n",
      "NA19257 :\t max:6.093; min:0.152; var:0.08506746457610714; size:1630\n"
     ]
    },
    {
     "data": {
      "image/png": "[encoded data removed]",
      "text/plain": [
       "<Figure size 1152x216 with 5 Axes>"
      ]
     },
     "metadata": {
      "needs_background": "light"
     },
     "output_type": "display_data"
    }
   ],
   "source": [
    "common_theta(workDir,filters)"
   ]
  },
  {
   "cell_type": "code",
   "execution_count": null,
   "metadata": {},
   "outputs": [],
   "source": []
  },
  {
   "cell_type": "code",
   "execution_count": null,
   "metadata": {},
   "outputs": [],
   "source": []
  },
  {
   "cell_type": "code",
   "execution_count": null,
   "metadata": {},
   "outputs": [],
   "source": []
  },
  {
   "cell_type": "code",
   "execution_count": null,
   "metadata": {},
   "outputs": [],
   "source": []
  },
  {
   "cell_type": "code",
   "execution_count": null,
   "metadata": {},
   "outputs": [],
   "source": []
  },
  {
   "cell_type": "code",
   "execution_count": null,
   "metadata": {},
   "outputs": [],
   "source": []
  }
 ],
 "metadata": {
  "kernelspec": {
   "display_name": "Python 3.7.7 64-bit",
   "language": "python",
   "name": "python37764bitc6e093d28366440eb2ca5fbed2d8948a"
  },
  "language_info": {
   "codemirror_mode": {
    "name": "ipython",
    "version": 3
   },
   "file_extension": ".py",
   "mimetype": "text/x-python",
   "name": "python",
   "nbconvert_exporter": "python",
   "pygments_lexer": "ipython3",
   "version": "3.7.7"
  }
 },
 "nbformat": 4,
 "nbformat_minor": 4
}
